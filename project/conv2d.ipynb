{
 "cells": [
  {
   "cell_type": "code",
   "execution_count": 1,
   "metadata": {},
   "outputs": [],
   "source": [
    "import numpy as np\n",
    "import pickle as pkl\n",
    "from modules.container import Sequential\n",
    "from modules.conv import Conv2d\n",
    "from modules.flatten import Flatten\n",
    "from modules.pooling import MaxPool2d\n",
    "from modules.linear import Linear\n",
    "from modules.activation import ReLU, Sigmoid, TanH\n",
    "from modules.loss import CrossEntropyLoss\n",
    "from optim.optimizer import Optimizer\n",
    "from optim.sgd import SGD\n",
    "\n",
    "# Load data\n",
    "data = pkl.load(open(\"data/usps.pkl\", \"rb\"))\n",
    "\n",
    "X_train = np.array(data[\"X_train\"], dtype=float).reshape(-1, 1, 16 , 16)\n",
    "X_test = np.array(data[\"X_test\"], dtype=float).reshape(-1, 1, 16 , 16)\n",
    "Y_train = data[\"Y_train\"]\n",
    "Y_test = data[\"Y_test\"]\n",
    "\n",
    "\n",
    "def one_hot(y):\n",
    "    y_one_hot = np.zeros((y.shape[0], 10))\n",
    "    y_one_hot[np.arange(y.shape[0]), y] = 1\n",
    "    return y_one_hot\n",
    "\n",
    "\n",
    "Y_train = one_hot(Y_train)\n",
    "Y_test = one_hot(Y_test)\n",
    "\n",
    "\n",
    "# Normalize data\n",
    "m = X_train.max()\n",
    "min = X_train.min()\n",
    "X_train = (X_train - min) / (m - min)\n",
    "\n",
    "m = X_test.max()\n",
    "min = X_test.min()\n",
    "X_test = (X_test - min) / (m - min)\n",
    "\n",
    "\n"
   ]
  },
  {
   "cell_type": "code",
   "execution_count": 2,
   "metadata": {},
   "outputs": [
    {
     "name": "stderr",
     "output_type": "stream",
     "text": [
      "Epoch 1: 100%|██████████| 50/50 [03:31<00:00,  4.23s/it, Loss=0.211]\n",
      "Epoch 2: 100%|██████████| 50/50 [03:31<00:00,  4.22s/it, Loss=0.126]\n",
      "Epoch 3: 100%|██████████| 50/50 [03:34<00:00,  4.29s/it, Loss=0.121]\n"
     ]
    },
    {
     "name": "stdout",
     "output_type": "stream",
     "text": [
      "Accuracy: 93.45%\n"
     ]
    }
   ],
   "source": [
    "net = Sequential(\n",
    "    Conv2d(1, 6, kernel_size=3,bias=False),\n",
    "    ReLU(),\n",
    "    MaxPool2d(2, 2),\n",
    "    Conv2d(6, 16, kernel_size=3,bias=False),\n",
    "    ReLU(),\n",
    "    MaxPool2d(2, 2),\n",
    "    Flatten(),\n",
    "    Linear(64, 120),\n",
    "    ReLU(),\n",
    "    Linear(120, 84),\n",
    "    ReLU(),\n",
    "    Linear(84, 10),\n",
    ")\n",
    "\n",
    "loss = CrossEntropyLoss()\n",
    "optimizer = Optimizer(net, loss, lr=5e-3)\n",
    "\n",
    "# Train the model\n",
    "\n",
    "SGD(X_train, Y_train, batch_size=32, num_iterations=150, optimizer=optimizer, iterations_per_epoch=50)\n",
    "\n",
    "# Compute network output on test set\n",
    "net.eval()\n",
    "output = net.forward(X_test)\n",
    "\n",
    "# Compute accuracy on test set\n",
    "pred = np.argmax(output, axis=1)\n",
    "accuracy = np.mean(pred == np.argmax(Y_test, axis=1))\n",
    "print(\"Accuracy: {:.2f}%\".format(accuracy * 100))\n",
    "\n",
    "\n"
   ]
  }
 ],
 "metadata": {
  "kernelspec": {
   "display_name": "ml",
   "language": "python",
   "name": "python3"
  },
  "language_info": {
   "codemirror_mode": {
    "name": "ipython",
    "version": 3
   },
   "file_extension": ".py",
   "mimetype": "text/x-python",
   "name": "python",
   "nbconvert_exporter": "python",
   "pygments_lexer": "ipython3",
   "version": "3.11.0"
  },
  "orig_nbformat": 4
 },
 "nbformat": 4,
 "nbformat_minor": 2
}
